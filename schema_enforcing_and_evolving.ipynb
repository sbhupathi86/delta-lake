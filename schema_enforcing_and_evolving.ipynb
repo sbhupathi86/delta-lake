{
 "cells": [
  {
   "cell_type": "markdown",
   "metadata": {
    "application/vnd.databricks.v1+cell": {
     "cellMetadata": {},
     "inputWidgets": {},
     "nuid": "e8ee64d1-15f5-42c9-861a-5184d9aff6c9",
     "showTitle": false,
     "title": ""
    }
   },
   "source": [
    "# Diving into Delta Lake: Enforcing and Evolving the Schema\n",
    "\n",
    "This notebook refers to the following blog - [Diving Into Delta Lake: Schema Enforcement & Evolution](https://databricks.com/blog/2019/09/24/diving-into-delta-lake-schema-enforcement-evolution.html) and [tech talk](https://databricks.zoom.us/webinar/register/WN_jO0td2nDTDmgTx8d353OFg); it is a modified version of the [Delta Lake Tutorial: Spark + AI Summit 2019 EU](https://github.com/delta-io/delta/tree/master/examples/tutorials/saiseu19).\n",
    "<br/>&nbsp;\n",
    "\n",
    "### Steps to run this notebook\n",
    "\n",
    "You can run this notebook in a Databricks environment. Specifically, this notebook has been designed to run in [Databricks Community Edition](http://community.cloud.databricks.com/) as well.\n",
    "To run this notebook, you have to [create a cluster](https://docs.databricks.com/clusters/create.html) with version **Databricks Runtime 6.1 or later** and [attach this notebook](https://docs.databricks.com/notebooks/notebooks-manage.html#attach-a-notebook-to-a-cluster) to that cluster. <br/>&nbsp;\n",
    "\n",
    "### Source Data for this notebook\n",
    "\n",
    "The data used is a modified version of the public data from [Lending Club](https://www.kaggle.com/wendykan/lending-club-loan-data). It includes all funded loans from 2012 to 2017. Each loan includes applicant information provided by the applicant as well as the current loan status (Current, Late, Fully Paid, etc.) and latest payment information. For a full view of the data please view the data dictionary available [here](https://resources.lendingclub.com/LCDataDictionary.xlsx)."
   ]
  },
  {
   "cell_type": "markdown",
   "metadata": {
    "application/vnd.databricks.v1+cell": {
     "cellMetadata": {},
     "inputWidgets": {},
     "nuid": "73c11b97-e234-4e87-b0d5-2465a2c758ac",
     "showTitle": false,
     "title": ""
    }
   },
   "source": [
    "<img src=\"https://docs.delta.io/latest/_static/delta-lake-logo.png\" width=300/>\n",
    "\n",
    "An open-source storage format that brings ACID transactions to Apache Spark™ and big data workloads.\n",
    "\n",
    "* **Open format**: Stored as Parquet format in blob storage.\n",
    "* **ACID Transactions**: Ensures data integrity and read consistency with complex, concurrent data pipelines.\n",
    "* **Schema Enforcement and Evolution**: Ensures data cleanliness by blocking writes with unexpected.\n",
    "* **Audit History**: History of all the operations that happened in the table.\n",
    "* **Time Travel**: Query previous versions of the table by time or version number.\n",
    "* **Deletes and upserts**: Supports deleting and upserting into tables with programmatic APIs.\n",
    "* **Scalable Metadata management**: Able to handle millions of files are scaling the metadata operations with Spark.\n",
    "* **Unified Batch and Streaming Source and Sink**: A table in Delta Lake is both a batch table, as well as a streaming source and sink. Streaming data ingest, batch historic backfill, and interactive queries all just work out of the box."
   ]
  },
  {
   "cell_type": "markdown",
   "metadata": {
    "application/vnd.databricks.v1+cell": {
     "cellMetadata": {},
     "inputWidgets": {},
     "nuid": "18ac81e2-9745-46d4-aebc-539b162a5022",
     "showTitle": false,
     "title": ""
    }
   },
   "source": [
    "## Explore data as a Parquet table"
   ]
  },
  {
   "cell_type": "markdown",
   "metadata": {
    "application/vnd.databricks.v1+cell": {
     "cellMetadata": {},
     "inputWidgets": {},
     "nuid": "9a49a1ee-b888-4209-8b36-32f03da5a907",
     "showTitle": false,
     "title": ""
    }
   },
   "source": [
    "#####Download the sampled Lending Club data"
   ]
  },
  {
   "cell_type": "code",
   "execution_count": 0,
   "metadata": {
    "application/vnd.databricks.v1+cell": {
     "cellMetadata": {},
     "inputWidgets": {},
     "nuid": "f6457f29-a22e-4f78-8e02-013d88c9f435",
     "showTitle": false,
     "title": ""
    }
   },
   "outputs": [],
   "source": [
    "%sh mkdir -p /dbfs/tmp/sais_eu_19_demo/loans/ && wget -O /dbfs/tmp/sais_eu_19_demo/loans/SAISEU19-loan-risks.snappy.parquet  https://pages.databricks.com/rs/094-YMS-629/images/SAISEU19-loan-risks.snappy.parquet && ls -al  /dbfs/tmp/sais_eu_19_demo/loans/"
   ]
  },
  {
   "cell_type": "markdown",
   "metadata": {
    "application/vnd.databricks.v1+cell": {
     "cellMetadata": {},
     "inputWidgets": {},
     "nuid": "309e4383-f769-4e76-abe1-17dcb90d1e9b",
     "showTitle": false,
     "title": ""
    }
   },
   "source": [
    "**Setup and configuration**"
   ]
  },
  {
   "cell_type": "code",
   "execution_count": 0,
   "metadata": {
    "application/vnd.databricks.v1+cell": {
     "cellMetadata": {},
     "inputWidgets": {},
     "nuid": "f77f9096-b858-4b41-a6ac-7f38b3333ece",
     "showTitle": false,
     "title": ""
    }
   },
   "outputs": [],
   "source": [
    "import os, shutil\n",
    "\n",
    "# Configurations necessary for running of Databricks Community Edition\n",
    "spark.sql(\"set spark.sql.shuffle.partitions = 1\")\n",
    "spark.sql(\"set spark.databricks.delta.snapshotPartitions = 1\")\n",
    "\n",
    "demo_path = \"/sais_eu_19_demo/\"\n",
    "\n",
    "if os.path.exists(\"/dbfs\" + demo_path):\n",
    "    print(\"Deleting path \" + demo_path)\n",
    "    shutil.rmtree(\"/dbfs\" + demo_path)\n",
    "    print(\"Deleted \" + demo_path)"
   ]
  },
  {
   "cell_type": "markdown",
   "metadata": {
    "application/vnd.databricks.v1+cell": {
     "cellMetadata": {},
     "inputWidgets": {},
     "nuid": "f6bf0c05-7a9d-434d-aa17-efc53133c357",
     "showTitle": false,
     "title": ""
    }
   },
   "source": [
    "#####Create the parquet table \"loans_parquet\""
   ]
  },
  {
   "cell_type": "code",
   "execution_count": 0,
   "metadata": {
    "application/vnd.databricks.v1+cell": {
     "cellMetadata": {},
     "inputWidgets": {},
     "nuid": "53b6aa13-829c-4f4a-aeb1-b4ab2fdbcf63",
     "showTitle": false,
     "title": ""
    }
   },
   "outputs": [],
   "source": [
    "import os\n",
    "import shutil\n",
    "from pyspark.sql.functions import *\n",
    "\n",
    "parquet_path = \"/sais_eu_19_demo/loans_parquet\"\n",
    "\n",
    "# Delete parquet table if it exsists\n",
    "if os.path.exists(\"/dbfs\" + parquet_path):\n",
    "    print(\"Deleting path \" + parquet_path)\n",
    "    shutil.rmtree(\"/dbfs\" + parquet_path)\n",
    "\n",
    "# Create a new parquet table with the parquet file\n",
    "spark.read.format(\"parquet\").load(\"/tmp/sais_eu_19_demo/loans/SAISEU19-loan-risks.snappy.parquet\") \\\n",
    "    .write.format(\"parquet\").save(parquet_path)\n",
    "print(\"Created a Parquet table at \" + parquet_path)\n",
    "\n",
    "# Create a view on the table called loans_parquet\n",
    "spark.read.format(\"parquet\").load(parquet_path).createOrReplaceTempView(\"loans_parquet\")\n",
    "print(\"Defined view 'loans_parquet'\")"
   ]
  },
  {
   "cell_type": "markdown",
   "metadata": {
    "application/vnd.databricks.v1+cell": {
     "cellMetadata": {},
     "inputWidgets": {},
     "nuid": "4eaf19fc-2bd9-4a77-9ed2-88715b9bd8bc",
     "showTitle": false,
     "title": ""
    }
   },
   "source": [
    "#####Let's explore this parquet table.\n",
    "\n",
    "*Schema of the table*\n",
    "- load_id - unique id for each loan\n",
    "- funded_amnt - principal amount of the loan funded to the loanee\n",
    "- paid_amnt - amount from the principle that has been paid back (ignoring interests)\n",
    "- addr_state - state where this loan was funded"
   ]
  },
  {
   "cell_type": "code",
   "execution_count": 0,
   "metadata": {
    "application/vnd.databricks.v1+cell": {
     "cellMetadata": {},
     "inputWidgets": {},
     "nuid": "14552090-f8fa-4c01-a2b5-77bae442f2da",
     "showTitle": false,
     "title": ""
    }
   },
   "outputs": [],
   "source": [
    "spark.sql(\"select * from loans_parquet\").show(20)"
   ]
  },
  {
   "cell_type": "markdown",
   "metadata": {
    "application/vnd.databricks.v1+cell": {
     "cellMetadata": {},
     "inputWidgets": {},
     "nuid": "b25c30c6-5089-4931-933f-f638198580b8",
     "showTitle": false,
     "title": ""
    }
   },
   "source": [
    "**How many records does it have?**"
   ]
  },
  {
   "cell_type": "code",
   "execution_count": 0,
   "metadata": {
    "application/vnd.databricks.v1+cell": {
     "cellMetadata": {},
     "inputWidgets": {},
     "nuid": "3e7d023a-4fcb-4687-9643-c693ceebab8b",
     "showTitle": false,
     "title": ""
    }
   },
   "outputs": [],
   "source": [
    "spark.sql(\"select count(*) from loans_parquet\").show()"
   ]
  },
  {
   "cell_type": "code",
   "execution_count": 0,
   "metadata": {
    "application/vnd.databricks.v1+cell": {
     "cellMetadata": {},
     "inputWidgets": {},
     "nuid": "45102c09-b7fa-4392-941d-1a81b145a6a6",
     "showTitle": false,
     "title": ""
    }
   },
   "outputs": [],
   "source": [
    "dbutils.notebook.exit(\"stop\")  # Stop the notebook before the streaming cell, in case of a \"run all\""
   ]
  },
  {
   "cell_type": "markdown",
   "metadata": {
    "application/vnd.databricks.v1+cell": {
     "cellMetadata": {},
     "inputWidgets": {},
     "nuid": "9241c99a-6c19-412d-b694-3a9dcee15f70",
     "showTitle": false,
     "title": ""
    }
   },
   "source": [
    "**Let's start appending some new data to it using Structured Streaming.**\n",
    "\n",
    "We will generate a stream of data from with randomly generated loan ids and amounts.\n",
    "In addition, we are going to define a few more useful utility functions."
   ]
  },
  {
   "cell_type": "code",
   "execution_count": 0,
   "metadata": {
    "application/vnd.databricks.v1+cell": {
     "cellMetadata": {},
     "inputWidgets": {},
     "nuid": "a29870d2-eb91-499a-ad4b-2994773e29c1",
     "showTitle": false,
     "title": ""
    }
   },
   "outputs": [],
   "source": [
    "import random\n",
    "import os\n",
    "from pyspark.sql.functions import *\n",
    "from pyspark.sql.types import *\n",
    "\n",
    "\n",
    "def random_checkpoint_dir():\n",
    "    return \"/sais_eu_19_demo/chkpt/%s\" % str(random.randint(0, 10000))\n",
    "\n",
    "\n",
    "# User-defined function to generate random state\n",
    "\n",
    "states = [\"CA\", \"TX\", \"NY\", \"WA\"]\n",
    "\n",
    "\n",
    "@udf(returnType=StringType())\n",
    "def random_state():\n",
    "    return str(random.choice(states))\n",
    "\n",
    "\n",
    "# Function to start a streaming query with a stream of randomly generated load data and append to the parquet table\n",
    "def generate_and_append_data_stream(table_format, table_path):\n",
    "    stream_data = spark.readStream.format(\"rate\").option(\"rowsPerSecond\", 5).load() \\\n",
    "        .withColumn(\"loan_id\", 10000 + col(\"value\")) \\\n",
    "        .withColumn(\"funded_amnt\", (rand() * 5000 + 5000).cast(\"integer\")) \\\n",
    "        .withColumn(\"paid_amnt\", col(\"funded_amnt\") - (rand() * 2000)) \\\n",
    "        .withColumn(\"addr_state\", random_state()) \\\n",
    " \\\n",
    "            query = stream_data.writeStream \\\n",
    "                .format(table_format) \\\n",
    "                .option(\"checkpointLocation\", random_checkpoint_dir()) \\\n",
    "                .trigger(processingTime=\"10 seconds\") \\\n",
    "                .start(table_path)\n",
    "\n",
    "    return query\n",
    "\n",
    "\n",
    "# Function to stop all streaming queries\n",
    "def stop_all_streams():\n",
    "    # Stop all the streams\n",
    "    print(\"Stopping all streams\")\n",
    "    for s in spark.streams.active:\n",
    "        s.stop()\n",
    "    print(\"Stopped all streams\")\n",
    "    print(\"Deleting checkpoints\")\n",
    "    dbutils.fs.rm(\"/sais_eu_19_demo/chkpt/\", True)\n",
    "    print(\"Deleted checkpoints\")\n"
   ]
  },
  {
   "cell_type": "markdown",
   "metadata": {
    "application/vnd.databricks.v1+cell": {
     "cellMetadata": {},
     "inputWidgets": {},
     "nuid": "3a9383de-b5d2-4fab-a89d-207133ac09dc",
     "showTitle": false,
     "title": ""
    }
   },
   "source": [
    "**Let's start a new stream to append data to the Parquet table**"
   ]
  },
  {
   "cell_type": "code",
   "execution_count": 0,
   "metadata": {
    "application/vnd.databricks.v1+cell": {
     "cellMetadata": {},
     "inputWidgets": {},
     "nuid": "dce27463-4f64-4a43-8ce4-2bfb4f938586",
     "showTitle": false,
     "title": ""
    }
   },
   "outputs": [],
   "source": [
    "stream_query = generate_and_append_data_stream(\n",
    "    table_format=\"parquet\",\n",
    "    table_path=parquet_path)"
   ]
  },
  {
   "cell_type": "markdown",
   "metadata": {
    "application/vnd.databricks.v1+cell": {
     "cellMetadata": {},
     "inputWidgets": {},
     "nuid": "5f8f6ccf-3488-45b4-b903-06068c64d1db",
     "showTitle": false,
     "title": ""
    }
   },
   "source": [
    "**Let's see if the data is being added to the table or not**."
   ]
  },
  {
   "cell_type": "code",
   "execution_count": 0,
   "metadata": {
    "application/vnd.databricks.v1+cell": {
     "cellMetadata": {},
     "inputWidgets": {},
     "nuid": "78b8b1c4-91a8-450b-ac4b-a7be4915d11d",
     "showTitle": false,
     "title": ""
    }
   },
   "outputs": [],
   "source": [
    "spark.read.format(\"parquet\").load(parquet_path).count()"
   ]
  },
  {
   "cell_type": "markdown",
   "metadata": {
    "application/vnd.databricks.v1+cell": {
     "cellMetadata": {},
     "inputWidgets": {},
     "nuid": "d5fb722e-a8e3-41c6-a2a6-7cdd2f7a9d59",
     "showTitle": false,
     "title": ""
    }
   },
   "source": [
    "**Where did our existing 14705 rows go? Let's see the data once again**"
   ]
  },
  {
   "cell_type": "code",
   "execution_count": 0,
   "metadata": {
    "application/vnd.databricks.v1+cell": {
     "cellMetadata": {},
     "inputWidgets": {},
     "nuid": "566e2443-a39f-43fa-b151-a89dfef05e77",
     "showTitle": false,
     "title": ""
    }
   },
   "outputs": [],
   "source": [
    "spark.read.format(\"parquet\").load(parquet_path).show()  # wrong schema!"
   ]
  },
  {
   "cell_type": "markdown",
   "metadata": {
    "application/vnd.databricks.v1+cell": {
     "cellMetadata": {},
     "inputWidgets": {},
     "nuid": "3ebe86f7-d6d4-46fe-ad26-1b65ca64bace",
     "showTitle": false,
     "title": ""
    }
   },
   "source": [
    "**Where did the two new columns `timestamp` and `value` come from? What happened here!**\n",
    "\n",
    "What really happened is that when the streaming query started adding new data to the Parquet table, it did not properly account for the existing data in the table. Furthermore, the new data files that written out accidentally had two extra columns in the schema. Hence, when reading the table, the 2 different schema from different files were merged together, thus unexpectedly modifying the schema of the table.\n",
    "\n",
    "\n",
    "Before we move on, **if you are running on Databricks Community Edition, definitely stop the streaming queries.**\n",
    "\n",
    "You free account in Databricks Community Edition has quota limits on the number of files and we do not want to hit that quote limit by running the streaming queries for too long."
   ]
  },
  {
   "cell_type": "code",
   "execution_count": 0,
   "metadata": {
    "application/vnd.databricks.v1+cell": {
     "cellMetadata": {},
     "inputWidgets": {},
     "nuid": "a2e68182-d29e-43f0-b046-e04fd61ac4a8",
     "showTitle": false,
     "title": ""
    }
   },
   "outputs": [],
   "source": [
    "stop_all_streams()"
   ]
  },
  {
   "cell_type": "markdown",
   "metadata": {
    "application/vnd.databricks.v1+cell": {
     "cellMetadata": {},
     "inputWidgets": {},
     "nuid": "9bd35fdb-5955-463a-98b3-e632feeda2b2",
     "showTitle": false,
     "title": ""
    }
   },
   "source": [
    "## ![Delta Lake Tiny Logo](https://pages.databricks.com/rs/094-YMS-629/images/delta-lake-tiny-logo.png) Batch + stream processing and schema enforcement with Delta Lake\n",
    "Let's understand how Delta Lake solves these particular problems (among many others). We will start by creating a Delta table from the original data."
   ]
  },
  {
   "cell_type": "code",
   "execution_count": 0,
   "metadata": {
    "application/vnd.databricks.v1+cell": {
     "cellMetadata": {},
     "inputWidgets": {},
     "nuid": "e90c3dd4-7655-457d-bb1f-32587630d428",
     "showTitle": false,
     "title": ""
    }
   },
   "outputs": [],
   "source": [
    "# Configure Delta Lake Silver Path\n",
    "delta_path = \"/sais_eu_19_demo/loans_delta\"\n",
    "\n",
    "# Configurations necessary for running of Databricks Community Edition\n",
    "spark.sql(\"set spark.sql.shuffle.partitions = 1\")\n",
    "spark.sql(\"set spark.databricks.delta.snapshotPartitions = 1\")\n",
    "\n",
    "# Remove folder if it exists\n",
    "print(\"Deleting directory \" + delta_path)\n",
    "dbutils.fs.rm(delta_path, recurse=True)\n",
    "\n",
    "# Create the Delta table with the same loans data\n",
    "spark.read.format(\"parquet\").load(\"/tmp/sais_eu_19_demo/loans/SAISEU19-loan-risks.snappy.parquet\") \\\n",
    "    .write.format(\"delta\").save(delta_path)\n",
    "print(\"Created a Delta table at \" + delta_path)\n",
    "\n",
    "spark.read.format(\"delta\").load(delta_path).createOrReplaceTempView(\"loans_delta\")\n",
    "print(\"Defined view 'loans_delta'\")"
   ]
  },
  {
   "cell_type": "markdown",
   "metadata": {
    "application/vnd.databricks.v1+cell": {
     "cellMetadata": {},
     "inputWidgets": {},
     "nuid": "7717c0ba-0ef0-48dc-8745-cfcfd85b5476",
     "showTitle": false,
     "title": ""
    }
   },
   "source": [
    "**Let's see the data once again.**"
   ]
  },
  {
   "cell_type": "code",
   "execution_count": 0,
   "metadata": {
    "application/vnd.databricks.v1+cell": {
     "cellMetadata": {},
     "inputWidgets": {},
     "nuid": "f1f97d05-bc7f-4fa3-86ba-a3e111445254",
     "showTitle": false,
     "title": ""
    }
   },
   "outputs": [],
   "source": [
    "spark.sql(\"select count(*) from loans_delta\").show()"
   ]
  },
  {
   "cell_type": "code",
   "execution_count": 0,
   "metadata": {
    "application/vnd.databricks.v1+cell": {
     "cellMetadata": {},
     "inputWidgets": {},
     "nuid": "4769ba0c-6a5a-463d-84f5-592e941d417e",
     "showTitle": false,
     "title": ""
    }
   },
   "outputs": [],
   "source": [
    "spark.sql(\"select * from loans_delta\").show()"
   ]
  },
  {
   "cell_type": "markdown",
   "metadata": {
    "application/vnd.databricks.v1+cell": {
     "cellMetadata": {},
     "inputWidgets": {},
     "nuid": "f44d712f-b04e-4488-8009-68e3094bcf35",
     "showTitle": false,
     "title": ""
    }
   },
   "source": [
    "###  ![Delta Lake Tiny Logo](https://pages.databricks.com/rs/094-YMS-629/images/delta-lake-tiny-logo.png) Review the Schema"
   ]
  },
  {
   "cell_type": "code",
   "execution_count": 0,
   "metadata": {
    "application/vnd.databricks.v1+cell": {
     "cellMetadata": {},
     "inputWidgets": {},
     "nuid": "d12b737e-6275-496c-a346-eb0b52eaf2b8",
     "showTitle": false,
     "title": ""
    }
   },
   "outputs": [],
   "source": [
    "%sh\n",
    "ls -lt /dbfs/sais_eu_19_demo/loans_delta/"
   ]
  },
  {
   "cell_type": "code",
   "execution_count": 0,
   "metadata": {
    "application/vnd.databricks.v1+cell": {
     "cellMetadata": {},
     "inputWidgets": {},
     "nuid": "2bf768f1-001c-4e2d-8453-7d9f32521d92",
     "showTitle": false,
     "title": ""
    }
   },
   "outputs": [],
   "source": [
    "%sh\n",
    "ls -lt /dbfs/sais_eu_19_demo/loans_delta/_delta_log"
   ]
  },
  {
   "cell_type": "code",
   "execution_count": 0,
   "metadata": {
    "application/vnd.databricks.v1+cell": {
     "cellMetadata": {},
     "inputWidgets": {},
     "nuid": "62e47aa2-c925-4833-942f-85403d40aa86",
     "showTitle": false,
     "title": ""
    }
   },
   "outputs": [],
   "source": [
    "%sh\n",
    "head /dbfs/sais_eu_19_demo/loans_delta/_delta_log/00000000000000000000.json"
   ]
  },
  {
   "cell_type": "code",
   "execution_count": 0,
   "metadata": {
    "application/vnd.databricks.v1+cell": {
     "cellMetadata": {},
     "inputWidgets": {},
     "nuid": "44240354-2fd0-4344-8504-3e6d7ad7746d",
     "showTitle": false,
     "title": ""
    }
   },
   "outputs": [],
   "source": [
    "j0 = spark.read.json(\"/sais_eu_19_demo/loans_delta/_delta_log/00000000000000000000.json\")"
   ]
  },
  {
   "cell_type": "markdown",
   "metadata": {
    "application/vnd.databricks.v1+cell": {
     "cellMetadata": {},
     "inputWidgets": {},
     "nuid": "2af6a718-59f5-4547-8575-d0f32dd2c263",
     "showTitle": false,
     "title": ""
    }
   },
   "source": [
    "#### Commit Information"
   ]
  },
  {
   "cell_type": "code",
   "execution_count": 0,
   "metadata": {
    "application/vnd.databricks.v1+cell": {
     "cellMetadata": {},
     "inputWidgets": {},
     "nuid": "92fd4461-a9bd-4fea-85be-37f21b43845f",
     "showTitle": false,
     "title": ""
    }
   },
   "outputs": [],
   "source": [
    "# Commit Information\n",
    "display(j0.select(\"commitInfo\").where(\"commitInfo is not null\"))"
   ]
  },
  {
   "cell_type": "markdown",
   "metadata": {
    "application/vnd.databricks.v1+cell": {
     "cellMetadata": {},
     "inputWidgets": {},
     "nuid": "0af9482b-1733-4f20-89dc-840b7bd9d2a8",
     "showTitle": false,
     "title": ""
    }
   },
   "source": [
    "#### Add"
   ]
  },
  {
   "cell_type": "code",
   "execution_count": 0,
   "metadata": {
    "application/vnd.databricks.v1+cell": {
     "cellMetadata": {},
     "inputWidgets": {},
     "nuid": "7679dc84-eba2-4b99-b31c-2611cab91c95",
     "showTitle": false,
     "title": ""
    }
   },
   "outputs": [],
   "source": [
    "# Add Information\n",
    "display(j0.select(\"add\").where(\"add is not null\"))"
   ]
  },
  {
   "cell_type": "markdown",
   "metadata": {
    "application/vnd.databricks.v1+cell": {
     "cellMetadata": {},
     "inputWidgets": {},
     "nuid": "4a8d9003-0641-4116-904b-df16027c7004",
     "showTitle": false,
     "title": ""
    }
   },
   "source": [
    "#### Metadata\n",
    "Note the `schemaString`"
   ]
  },
  {
   "cell_type": "code",
   "execution_count": 0,
   "metadata": {
    "application/vnd.databricks.v1+cell": {
     "cellMetadata": {},
     "inputWidgets": {},
     "nuid": "acf5ecf0-b27d-41fe-b7eb-ced01343600e",
     "showTitle": false,
     "title": ""
    }
   },
   "outputs": [],
   "source": [
    "# Add Information\n",
    "display(j0.select(\"metadata\").where(\"metadata is not null\"))"
   ]
  },
  {
   "cell_type": "markdown",
   "metadata": {
    "application/vnd.databricks.v1+cell": {
     "cellMetadata": {},
     "inputWidgets": {},
     "nuid": "7f81bbba-874c-4664-aec2-7496cc06f95b",
     "showTitle": false,
     "title": ""
    }
   },
   "source": [
    "###  ![Delta Lake Tiny Logo](https://pages.databricks.com/rs/094-YMS-629/images/delta-lake-tiny-logo.png) Schema Enforcement"
   ]
  },
  {
   "cell_type": "markdown",
   "metadata": {
    "application/vnd.databricks.v1+cell": {
     "cellMetadata": {},
     "inputWidgets": {},
     "nuid": "35da87f7-c4dc-415a-9837-607d67b88931",
     "showTitle": false,
     "title": ""
    }
   },
   "source": [
    "**Let's run a streaming count(*) on the table so that the count updates automatically**"
   ]
  },
  {
   "cell_type": "code",
   "execution_count": 0,
   "metadata": {
    "application/vnd.databricks.v1+cell": {
     "cellMetadata": {},
     "inputWidgets": {},
     "nuid": "c17fbeac-281e-49e5-b638-202caeb71ca8",
     "showTitle": false,
     "title": ""
    }
   },
   "outputs": [],
   "source": [
    "spark.readStream.format(\"delta\").load(delta_path).createOrReplaceTempView(\"loans_delta_stream\")\n",
    "display(spark.sql(\"select count(*) from loans_delta_stream\"))"
   ]
  },
  {
   "cell_type": "markdown",
   "metadata": {
    "application/vnd.databricks.v1+cell": {
     "cellMetadata": {},
     "inputWidgets": {},
     "nuid": "d38168f6-0869-490d-b9be-4d1f31a1e951",
     "showTitle": false,
     "title": ""
    }
   },
   "source": [
    "**Now let's try writing the streaming appends once again**"
   ]
  },
  {
   "cell_type": "code",
   "execution_count": 0,
   "metadata": {
    "application/vnd.databricks.v1+cell": {
     "cellMetadata": {},
     "inputWidgets": {},
     "nuid": "d2b92ee8-4038-4094-a9ac-7fef33ab837f",
     "showTitle": false,
     "title": ""
    }
   },
   "outputs": [],
   "source": [
    "stream_query_2 = generate_and_append_data_stream(table_format=\"delta\", table_path=delta_path)"
   ]
  },
  {
   "cell_type": "markdown",
   "metadata": {
    "application/vnd.databricks.v1+cell": {
     "cellMetadata": {},
     "inputWidgets": {},
     "nuid": "32e9b5fe-24d0-4e6b-a3f6-a7f45827b1ba",
     "showTitle": false,
     "title": ""
    }
   },
   "source": [
    "The writes were blocked because the schema of the new data did not match the schema of table (see the exception details). See more information about how it works [here](https://databricks.com/blog/2019/09/24/diving-into-delta-lake-schema-enforcement-evolution.html).\n",
    "\n",
    "**Now, let's fix the streaming query by selecting the columns we want to write.**"
   ]
  },
  {
   "cell_type": "code",
   "execution_count": 0,
   "metadata": {
    "application/vnd.databricks.v1+cell": {
     "cellMetadata": {},
     "inputWidgets": {},
     "nuid": "939caf00-4eb2-4ab5-b7f8-df616b2336b3",
     "showTitle": false,
     "title": ""
    }
   },
   "outputs": [],
   "source": [
    "from pyspark.sql.functions import *\n",
    "\n",
    "\n",
    "# Generate a stream of randomly generated load data and append to the parquet table\n",
    "def generate_and_append_data_stream_fixed(table_format, table_path):\n",
    "    stream_data = spark.readStream.format(\"rate\").option(\"rowsPerSecond\", 50).load() \\\n",
    "        .withColumn(\"loan_id\", 10000 + col(\"value\")) \\\n",
    "        .withColumn(\"funded_amnt\", (rand() * 5000 + 5000).cast(\"integer\")) \\\n",
    "        .withColumn(\"paid_amnt\", col(\"funded_amnt\") - (rand() * 2000)) \\\n",
    "        .withColumn(\"addr_state\", random_state()) \\\n",
    "        .select(\"loan_id\", \"funded_amnt\", \"paid_amnt\",\n",
    "                \"addr_state\")  # *********** FIXED THE SCHEMA OF THE GENERATED DATA *************\n",
    "\n",
    "    query = stream_data.writeStream \\\n",
    "        .format(table_format) \\\n",
    "        .option(\"checkpointLocation\", random_checkpoint_dir()) \\\n",
    "        .trigger(processingTime=\"10 seconds\") \\\n",
    "        .start(table_path)\n",
    "\n",
    "    return query\n"
   ]
  },
  {
   "cell_type": "markdown",
   "metadata": {
    "application/vnd.databricks.v1+cell": {
     "cellMetadata": {},
     "inputWidgets": {},
     "nuid": "67b5b059-15e7-4a04-b1a2-b6194f951b47",
     "showTitle": false,
     "title": ""
    }
   },
   "source": [
    "**Now we can successfully write to the table. Note the count in the above streaming query increasing as we write to this table.**"
   ]
  },
  {
   "cell_type": "code",
   "execution_count": 0,
   "metadata": {
    "application/vnd.databricks.v1+cell": {
     "cellMetadata": {},
     "inputWidgets": {},
     "nuid": "eeb50769-2d71-4980-8bb0-2d316a14c0c8",
     "showTitle": false,
     "title": ""
    }
   },
   "outputs": [],
   "source": [
    "stream_query_2 = generate_and_append_data_stream_fixed(table_format=\"delta\", table_path=delta_path)"
   ]
  },
  {
   "cell_type": "markdown",
   "metadata": {
    "application/vnd.databricks.v1+cell": {
     "cellMetadata": {},
     "inputWidgets": {},
     "nuid": "dbbb8c2a-af5b-4e20-9b53-29fe5ca6e1eb",
     "showTitle": false,
     "title": ""
    }
   },
   "source": [
    "**Scroll back up to see the numbers change in the `readStream` as more data is being appended by the `writeStream`.**\n",
    "\n",
    "**In fact, we can run multiple concurrent streams writing to that table, it will work together.**"
   ]
  },
  {
   "cell_type": "markdown",
   "metadata": {
    "application/vnd.databricks.v1+cell": {
     "cellMetadata": {},
     "inputWidgets": {},
     "nuid": "af3e55b4-bdbb-4e2a-b75a-ca7d710d0780",
     "showTitle": false,
     "title": ""
    }
   },
   "source": [
    "Just for sanity check, let's query as a batch\n",
    "\n",
    "Note, you can run a read stream, two write streams, and read in batch - concurrently!"
   ]
  },
  {
   "cell_type": "code",
   "execution_count": 0,
   "metadata": {
    "application/vnd.databricks.v1+cell": {
     "cellMetadata": {},
     "inputWidgets": {},
     "nuid": "ef416659-bab0-4d6c-aec1-2d1bd0b1cd30",
     "showTitle": false,
     "title": ""
    }
   },
   "outputs": [],
   "source": [
    "display(spark.sql(\"select count(*) from loans_delta\"))"
   ]
  },
  {
   "cell_type": "markdown",
   "metadata": {
    "application/vnd.databricks.v1+cell": {
     "cellMetadata": {},
     "inputWidgets": {},
     "nuid": "09d78c3c-81fe-4651-9558-41b9a97e0886",
     "showTitle": false,
     "title": ""
    }
   },
   "source": [
    "**Again, remember to stop all the streaming queries.**"
   ]
  },
  {
   "cell_type": "code",
   "execution_count": 0,
   "metadata": {
    "application/vnd.databricks.v1+cell": {
     "cellMetadata": {},
     "inputWidgets": {},
     "nuid": "ad285656-f159-4e40-97b9-01bec46c01dc",
     "showTitle": false,
     "title": ""
    }
   },
   "outputs": [],
   "source": [
    "stop_all_streams()"
   ]
  },
  {
   "cell_type": "code",
   "execution_count": 0,
   "metadata": {
    "application/vnd.databricks.v1+cell": {
     "cellMetadata": {},
     "inputWidgets": {},
     "nuid": "92b85877-de33-47f9-be74-a83b86ce5b5e",
     "showTitle": false,
     "title": ""
    }
   },
   "outputs": [],
   "source": [
    "%sh\n",
    "ls -lt /dbfs/sais_eu_19_demo/loans_delta/_delta_log/"
   ]
  },
  {
   "cell_type": "code",
   "execution_count": 0,
   "metadata": {
    "application/vnd.databricks.v1+cell": {
     "cellMetadata": {},
     "inputWidgets": {},
     "nuid": "ed31c0b0-4e75-4fd7-87c8-11deb2f407ef",
     "showTitle": false,
     "title": ""
    }
   },
   "outputs": [],
   "source": [
    "from delta.tables import *\n",
    "\n",
    "delta_path = \"/sais_eu_19_demo/loans_delta\"\n",
    "deltaTable = DeltaTable.forPath(spark, delta_path)\n",
    "\n",
    "# remember the last commit before schema change\n",
    "c_before = deltaTable.history(1).select(\"version\").collect()[0][0]\n",
    "print(c_before)"
   ]
  },
  {
   "cell_type": "markdown",
   "metadata": {
    "application/vnd.databricks.v1+cell": {
     "cellMetadata": {},
     "inputWidgets": {},
     "nuid": "435dff2d-cce7-487c-9ef4-09587d3aa1a3",
     "showTitle": false,
     "title": ""
    }
   },
   "source": [
    "###  ![Delta Lake Tiny Logo](https://pages.databricks.com/rs/094-YMS-629/images/delta-lake-tiny-logo.png) Schema Evolution"
   ]
  },
  {
   "cell_type": "markdown",
   "metadata": {
    "application/vnd.databricks.v1+cell": {
     "cellMetadata": {},
     "inputWidgets": {},
     "nuid": "80913df1-cd9f-4f03-a4ec-fb1161e16887",
     "showTitle": false,
     "title": ""
    }
   },
   "source": [
    "**Let's run a streaming count(*) on the table so that the count updates automatically**"
   ]
  },
  {
   "cell_type": "code",
   "execution_count": 0,
   "metadata": {
    "application/vnd.databricks.v1+cell": {
     "cellMetadata": {},
     "inputWidgets": {},
     "nuid": "88c2384b-74f4-4fd0-8fe0-c4631000b6f6",
     "showTitle": false,
     "title": ""
    }
   },
   "outputs": [],
   "source": [
    "spark.readStream.format(\"delta\").load(delta_path).createOrReplaceTempView(\"loans_delta_stream\")\n",
    "display(spark.sql(\"select count(*) from loans_delta_stream\"))"
   ]
  },
  {
   "cell_type": "markdown",
   "metadata": {
    "application/vnd.databricks.v1+cell": {
     "cellMetadata": {},
     "inputWidgets": {},
     "nuid": "882aaa9c-ef4b-401d-ba46-a662e0de9f61",
     "showTitle": false,
     "title": ""
    }
   },
   "source": [
    "**Now let's try writing the streaming appends once again**"
   ]
  },
  {
   "cell_type": "code",
   "execution_count": 0,
   "metadata": {
    "application/vnd.databricks.v1+cell": {
     "cellMetadata": {},
     "inputWidgets": {},
     "nuid": "540f7f91-ec98-4568-b579-afbe9761551a",
     "showTitle": false,
     "title": ""
    }
   },
   "outputs": [],
   "source": [
    "stream_query_2 = generate_and_append_data_stream(table_format=\"delta\", table_path=delta_path)\n"
   ]
  },
  {
   "cell_type": "code",
   "execution_count": 0,
   "metadata": {
    "application/vnd.databricks.v1+cell": {
     "cellMetadata": {},
     "inputWidgets": {},
     "nuid": "2f564362-3e9c-4eba-8ee2-82a629ff2ea6",
     "showTitle": false,
     "title": ""
    }
   },
   "outputs": [],
   "source": [
    "# Generate a stream of randomly generated load data and append to the table (with mergeSchema option)\n",
    "def generate_and_append_data_stream_mergeSchema(table_format, table_path):\n",
    "    stream_data = spark.readStream.format(\"rate\").option(\"rowsPerSecond\", 5).load() \\\n",
    "        .withColumn(\"loan_id\", 10000 + col(\"value\")) \\\n",
    "        .withColumn(\"funded_amnt\", (rand() * 5000 + 5000).cast(\"integer\")) \\\n",
    "        .withColumn(\"paid_amnt\", col(\"funded_amnt\") - (rand() * 2000)) \\\n",
    "        .withColumn(\"addr_state\", random_state())\n",
    "\n",
    "    query = stream_data.writeStream \\\n",
    "        .format(table_format) \\\n",
    "        .option(\"checkpointLocation\", random_checkpoint_dir()) \\\n",
    "        .option(\"mergeSchema\", \"true\") \\\n",
    "        .trigger(processingTime=\"10 seconds\") \\\n",
    "        .start(table_path)\n",
    "\n",
    "    return query\n"
   ]
  },
  {
   "cell_type": "code",
   "execution_count": 0,
   "metadata": {
    "application/vnd.databricks.v1+cell": {
     "cellMetadata": {},
     "inputWidgets": {},
     "nuid": "7319f3fd-1ae4-49a4-80a7-0a2b3eb25b9f",
     "showTitle": false,
     "title": ""
    }
   },
   "outputs": [],
   "source": [
    "stream_query_2 = generate_and_append_data_stream_mergeSchema(table_format=\"delta\", table_path=delta_path)"
   ]
  },
  {
   "cell_type": "code",
   "execution_count": 0,
   "metadata": {
    "application/vnd.databricks.v1+cell": {
     "cellMetadata": {},
     "inputWidgets": {},
     "nuid": "2f9812fe-ffc6-4211-847d-9fa871734734",
     "showTitle": false,
     "title": ""
    }
   },
   "outputs": [],
   "source": [
    "spark.readStream.format(\"delta\").load(delta_path).createOrReplaceTempView(\"loans_delta_stream\")\n",
    "display(spark.sql(\"select count(*) from loans_delta_stream\"))"
   ]
  },
  {
   "cell_type": "code",
   "execution_count": 0,
   "metadata": {
    "application/vnd.databricks.v1+cell": {
     "cellMetadata": {},
     "inputWidgets": {},
     "nuid": "73a213d1-aa85-49f9-88ea-210168ad7cba",
     "showTitle": false,
     "title": ""
    }
   },
   "outputs": [],
   "source": [
    "display(spark.sql(\"select count(1) from loans_delta\"))"
   ]
  },
  {
   "cell_type": "markdown",
   "metadata": {
    "application/vnd.databricks.v1+cell": {
     "cellMetadata": {},
     "inputWidgets": {},
     "nuid": "d08d5af5-a784-485c-b308-7064ba239b90",
     "showTitle": false,
     "title": ""
    }
   },
   "source": [
    "**Again, remember to stop all the streaming queries.**"
   ]
  },
  {
   "cell_type": "code",
   "execution_count": 0,
   "metadata": {
    "application/vnd.databricks.v1+cell": {
     "cellMetadata": {},
     "inputWidgets": {},
     "nuid": "55b1eb5a-ff57-4597-ad5e-31a50c14320c",
     "showTitle": false,
     "title": ""
    }
   },
   "outputs": [],
   "source": [
    "stop_all_streams()"
   ]
  },
  {
   "cell_type": "markdown",
   "metadata": {
    "application/vnd.databricks.v1+cell": {
     "cellMetadata": {},
     "inputWidgets": {},
     "nuid": "126546b0-e50a-4f4f-8e5d-97f8ee650dee",
     "showTitle": false,
     "title": ""
    }
   },
   "source": [
    "### ![Delta Lake Tiny Logo](https://pages.databricks.com/rs/094-YMS-629/images/delta-lake-tiny-logo.png) Audit Delta Lake Table History\n",
    "All changes to the Delta table are recorded as commits in the table's transaction log. As you write into a Delta table or directory, every operation is automatically versioned. You can use the HISTORY command to view the table's history. For more information, check out the [docs](https://docs.delta.io/latest/delta-utility.html#history)."
   ]
  },
  {
   "cell_type": "code",
   "execution_count": 0,
   "metadata": {
    "application/vnd.databricks.v1+cell": {
     "cellMetadata": {},
     "inputWidgets": {},
     "nuid": "5829148c-f32e-4b4e-aa0b-6548f9aaba23",
     "showTitle": false,
     "title": ""
    }
   },
   "outputs": [],
   "source": [
    "%sh\n",
    "ls -lt /dbfs/sais_eu_19_demo/loans_delta/_delta_log/"
   ]
  },
  {
   "cell_type": "code",
   "execution_count": 0,
   "metadata": {
    "application/vnd.databricks.v1+cell": {
     "cellMetadata": {},
     "inputWidgets": {},
     "nuid": "adbd8b2d-0ea9-4ca8-8f48-d951cf2b5229",
     "showTitle": false,
     "title": ""
    }
   },
   "outputs": [],
   "source": [
    "from delta.tables import *\n",
    "\n",
    "delta_path = \"/sais_eu_19_demo/loans_delta\"\n",
    "\n",
    "deltaTable = DeltaTable.forPath(spark, delta_path)\n",
    "display(deltaTable.history())"
   ]
  },
  {
   "cell_type": "markdown",
   "metadata": {
    "application/vnd.databricks.v1+cell": {
     "cellMetadata": {},
     "inputWidgets": {},
     "nuid": "99b8ea7c-96d4-4a2d-9e7a-ea89a19bf9a8",
     "showTitle": false,
     "title": ""
    }
   },
   "source": [
    "### Review JSON for Schema Changes\n",
    "* `commit_before`: Data with old schema\n",
    "* `commit_change`: Transaction for schema change\n",
    "* `commit_after`: New data with new schema"
   ]
  },
  {
   "cell_type": "code",
   "execution_count": 0,
   "metadata": {
    "application/vnd.databricks.v1+cell": {
     "cellMetadata": {},
     "inputWidgets": {},
     "nuid": "5731e76a-3fc1-48c3-99e2-be035f2911ee",
     "showTitle": false,
     "title": ""
    }
   },
   "outputs": [],
   "source": [
    "c_change = c_before + 1\n",
    "c_after = c_change + 1\n",
    "path_template = \"/sais_eu_19_demo/loans_delta/_delta_log/0000000000000000{commit:04d}.json\""
   ]
  },
  {
   "cell_type": "code",
   "execution_count": 0,
   "metadata": {
    "application/vnd.databricks.v1+cell": {
     "cellMetadata": {},
     "inputWidgets": {},
     "nuid": "efe1c7b1-ec08-41c0-84b5-fcfca0c12eed",
     "showTitle": false,
     "title": ""
    }
   },
   "outputs": [],
   "source": [
    "commit_before = spark.read.json(path_template.format(commit=c_before))\n",
    "commit_change = spark.read.json(path_template.format(commit=c_change))\n",
    "commit_after = spark.read.json(path_template.format(commit=c_after))"
   ]
  },
  {
   "cell_type": "markdown",
   "metadata": {
    "application/vnd.databricks.v1+cell": {
     "cellMetadata": {},
     "inputWidgets": {},
     "nuid": "a5efa79c-adf2-4f6f-a02a-eed0ec3388f9",
     "showTitle": false,
     "title": ""
    }
   },
   "source": [
    "#### Add Information"
   ]
  },
  {
   "cell_type": "code",
   "execution_count": 0,
   "metadata": {
    "application/vnd.databricks.v1+cell": {
     "cellMetadata": {},
     "inputWidgets": {},
     "nuid": "1d28dd7b-2b52-4f70-9e2c-bd188eae308e",
     "showTitle": false,
     "title": ""
    }
   },
   "outputs": [],
   "source": [
    "# Data with old schema\n",
    "display(commit_before.select(\"add\").where(\"add is not null\"))"
   ]
  },
  {
   "cell_type": "code",
   "execution_count": 0,
   "metadata": {
    "application/vnd.databricks.v1+cell": {
     "cellMetadata": {},
     "inputWidgets": {},
     "nuid": "ff6de80d-c1b9-4313-9c1e-e7254c8613ee",
     "showTitle": false,
     "title": ""
    }
   },
   "outputs": [],
   "source": [
    "# Transaction for schema change\n",
    "display(commit_change.select(\"add\").where(\"add is not null\"))"
   ]
  },
  {
   "cell_type": "markdown",
   "metadata": {
    "application/vnd.databricks.v1+cell": {
     "cellMetadata": {},
     "inputWidgets": {},
     "nuid": "5fc83193-c328-4a6d-8a7a-e7f252210676",
     "showTitle": false,
     "title": ""
    }
   },
   "source": [
    "#### Metadata Information"
   ]
  },
  {
   "cell_type": "code",
   "execution_count": 0,
   "metadata": {
    "application/vnd.databricks.v1+cell": {
     "cellMetadata": {},
     "inputWidgets": {},
     "nuid": "708646ff-e768-43c2-9355-da465d36d555",
     "showTitle": false,
     "title": ""
    }
   },
   "outputs": [],
   "source": [
    "# Metadata Information\n",
    "display(commit_change.select(\"metadata\").where(\"metadata is not null\"))"
   ]
  },
  {
   "cell_type": "code",
   "execution_count": 0,
   "metadata": {
    "application/vnd.databricks.v1+cell": {
     "cellMetadata": {},
     "inputWidgets": {},
     "nuid": "2933ccf5-1727-492f-852f-e91a4e6632e2",
     "showTitle": false,
     "title": ""
    }
   },
   "outputs": [],
   "source": [
    "# New data with new schema\n",
    "display(commit_after.select(\"add\").where(\"add is not null\"))"
   ]
  },
  {
   "cell_type": "markdown",
   "metadata": {
    "application/vnd.databricks.v1+cell": {
     "cellMetadata": {},
     "inputWidgets": {},
     "nuid": "fc794100-b6f8-4f69-b702-51d804851048",
     "showTitle": false,
     "title": ""
    }
   },
   "source": [
    "#### Time Travel - Querying historic versions"
   ]
  },
  {
   "cell_type": "code",
   "execution_count": 0,
   "metadata": {
    "application/vnd.databricks.v1+cell": {
     "cellMetadata": {},
     "inputWidgets": {},
     "nuid": "a8a4d619-970c-4a9a-b3fd-343c3f0da499",
     "showTitle": false,
     "title": ""
    }
   },
   "outputs": [],
   "source": [
    "currentVersion = deltaTable.history(1).select(\"version\").collect()[0][0]\n",
    "\n",
    "v_init = spark.read.format(\"delta\").option(\"versionAsOf\", 1).load(delta_path).count()\n",
    "v_change = spark.read.format(\"delta\").option(\"versionAsOf\", c_before).load(delta_path).count()\n",
    "v_now = spark.read.format(\"delta\").option(\"versionAsOf\", currentVersion).load(delta_path).count()\n",
    "print(\"loans_delta table counts:\\n Initial [%s]\\n At Schema Change [%s]\\n Current Version [%s]\" % (\n",
    "v_init, v_change, v_now))"
   ]
  },
  {
   "cell_type": "code",
   "execution_count": 0,
   "metadata": {
    "application/vnd.databricks.v1+cell": {
     "cellMetadata": {},
     "inputWidgets": {},
     "nuid": "28f31544-2e51-4912-b547-fa4c7cec93db",
     "showTitle": false,
     "title": ""
    }
   },
   "outputs": [],
   "source": [
    "display(spark.read.format(\"delta\").option(\"versionAsOf\", c_before).load(delta_path))"
   ]
  },
  {
   "cell_type": "code",
   "execution_count": 0,
   "metadata": {
    "application/vnd.databricks.v1+cell": {
     "cellMetadata": {},
     "inputWidgets": {},
     "nuid": "ca704e7d-8a3a-4c17-b781-4b2b557f8289",
     "showTitle": false,
     "title": ""
    }
   },
   "outputs": [],
   "source": [
    "display(spark.read.format(\"delta\").option(\"versionAsOf\", c_change).load(delta_path))"
   ]
  },
  {
   "cell_type": "code",
   "execution_count": 0,
   "metadata": {
    "application/vnd.databricks.v1+cell": {
     "cellMetadata": {},
     "inputWidgets": {},
     "nuid": "3c7889fe-29a1-4855-ac5d-3891a5f40e12",
     "showTitle": false,
     "title": ""
    }
   },
   "outputs": [],
   "source": [
    "display(spark.read.format(\"delta\").option(\"versionAsOf\", c_after).load(delta_path).where(\"timestamp is not null\"))"
   ]
  },
  {
   "cell_type": "markdown",
   "metadata": {
    "application/vnd.databricks.v1+cell": {
     "cellMetadata": {},
     "inputWidgets": {},
     "nuid": "488e1622-6869-42d1-b7b8-1a79d074940a",
     "showTitle": false,
     "title": ""
    }
   },
   "source": [
    "#Join the community!\n",
    "\n",
    "\n",
    "* [Delta Lake on GitHub](https://github.com/delta-io/delta)\n",
    "* [Delta Lake Slack Channel](https://delta-users.slack.com/) ([Registration Link](https://join.slack.com/t/delta-users/shared_invite/enQtNTY1NDg0ODcxOTI1LWJkZGU3ZmQ3MjkzNmY2ZDM0NjNlYjE4MWIzYjg2OWM1OTBmMWIxZTllMjg3ZmJkNjIwZmE1ZTZkMmQ0OTk5ZjA))\n",
    "* [Public Mailing List](https://groups.google.com/forum/#!forum/delta-users)"
   ]
  }
 ],
 "metadata": {
  "application/vnd.databricks.v1+notebook": {
   "dashboards": [],
   "environmentMetadata": null,
   "language": "python",
   "notebookMetadata": {
    "pythonIndentUnit": 2
   },
   "notebookName": "schema_enforcing_and_evolving",
   "widgets": {}
  }
 },
 "nbformat": 4,
 "nbformat_minor": 0
}
